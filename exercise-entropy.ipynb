{
 "cells": [
  {
   "cell_type": "markdown",
   "metadata": {
    "slideshow": {
     "slide_type": "slide"
    }
   },
   "source": [
    "# HTW Berlin - Angewandte Informatik - Advanced Topics - Exercise - Entropy"
   ]
  },
  {
   "cell_type": "markdown",
   "metadata": {
    "slideshow": {
     "slide_type": "slide"
    }
   },
   "source": [
    "## Table of Contents\n",
    "* [Introduction](#Introduction)\n",
    "* [Requirements](#Requirements) \n",
    "  * [Knowledge](#Knowledge)\n",
    "  * [Modules](#Python-Modules)\n",
    "* [Exercise - Entropy](#Exercise---Entropy)\n",
    "  * [Exercise - Entropy](#Exercise---Entropy)\n",
    "  * [Exercise - KL Divergence](#Exercise---KL-Divergence)\n",
    "* [Literature](#Literature)\n",
    "* [Licenses](#Licenses)"
   ]
  },
  {
   "cell_type": "markdown",
   "metadata": {
    "slideshow": {
     "slide_type": "slide"
    }
   },
   "source": [
    "## Introduction\n",
    "\n",
    "In this notebook you will calculate the entropy of a probability mass function (pmf) and use the KL Divergence to measure the quality of an approximation of a probability density function.\n",
    "\n",
    "In order to detect errors in your own code, execute the notebook cells containing `assert` or `assert_almost_equal`. These statements raise exceptions, as long as the calculated result is not yet correct."
   ]
  },
  {
   "cell_type": "markdown",
   "metadata": {
    "slideshow": {
     "slide_type": "slide"
    }
   },
   "source": [
    "## Requirements\n",
    "\n",
    "### Knowledge\n",
    "\n",
    "To complete this exercise notebook you should possess knowledge about the following topics.\n",
    "* Proability mass function (pmf)\n",
    "* Proability density function (pdf)\n",
    "* Entropy\n",
    "* Expected value (**Exercise - Expected Value**)\n",
    "* KL Divergence (Kullback–Leibler)\n",
    "\n",
    "The following literature can help you to acquire this knowledge:\n",
    "* Read Chapter 3 \"Probability and Information Theory\" of the [Deep Learning Book](http://www.deeplearningbook.org/)\n",
    "* Read Chapter 2.4 to 2.6 in David MacKays Book http://www.inference.org.uk/itprnn/book.html\n"
   ]
  },
  {
   "cell_type": "markdown",
   "metadata": {
    "slideshow": {
     "slide_type": "slide"
    }
   },
   "source": [
    "### Python Modules"
   ]
  },
  {
   "cell_type": "code",
   "execution_count": 1,
   "metadata": {
    "slideshow": {
     "slide_type": "slide"
    }
   },
   "outputs": [],
   "source": [
    "# External Modules\n",
    "import numpy as np\n",
    "import matplotlib.pyplot as plt\n",
    "import scipy.stats as ss\n",
    "from numpy.testing import assert_almost_equal\n",
    "\n",
    "%matplotlib inline"
   ]
  },
  {
   "cell_type": "markdown",
   "metadata": {
    "slideshow": {
     "slide_type": "slide"
    }
   },
   "source": [
    "## Exercise - Entropy"
   ]
  },
  {
   "cell_type": "markdown",
   "metadata": {
    "slideshow": {
     "slide_type": "slide"
    }
   },
   "source": [
    "### Exercise - Entropy"
   ]
  },
  {
   "cell_type": "markdown",
   "metadata": {
    "slideshow": {
     "slide_type": "slide"
    }
   },
   "source": [
    "At a party you are offered a free drink $x$ by playing a special roulette game. With probability 40% you receive 1 of 3 possible kinds of beer. 30% for 1 of 5 possible kinds of wine, 20% for 1 of 10 different kinds of schnapps and with a probability of 10% you receive vinegar. The  different kinds in each of those categories (beer, wine, ...) are uniformly distributed.\n",
    "\n",
    "**Task:**\n",
    "\n",
    "Estimate the entropy $X$ of your drink in bits.\n",
    "\n",
    "**Reminder**:\n",
    "$$\n",
    "H(X) = \\sum_{x \\in \\mathcal A x} P(x) \\log_2 \\frac{1}{P(x)}\n",
    "$$\n",
    "\n",
    "or\n",
    "\n",
    "$$\n",
    "H(X) = - \\sum_{x \\in \\mathcal A x} P(x) \\log_2 P(x)\n",
    "$$"
   ]
  },
  {
   "cell_type": "code",
   "execution_count": 29,
   "metadata": {},
   "outputs": [
    {
     "data": {
      "text/plain": [
       "1.5849625007211561"
      ]
     },
     "execution_count": 29,
     "metadata": {},
     "output_type": "execute_result"
    }
   ],
   "source": [
    "- (1/3)* np.log2(1/3)- (1/3)* np.log2(1/3)- (1/3)* np.log2(1/3)"
   ]
  },
  {
   "cell_type": "code",
   "execution_count": 30,
   "metadata": {},
   "outputs": [
    {
     "data": {
      "text/plain": [
       "1.5849625007211561"
      ]
     },
     "execution_count": 30,
     "metadata": {},
     "output_type": "execute_result"
    }
   ],
   "source": [
    "3 * (- (1/3)* np.log2(1/3))"
   ]
  },
  {
   "cell_type": "code",
   "execution_count": 23,
   "metadata": {
    "slideshow": {
     "slide_type": "slide"
    }
   },
   "outputs": [
    {
     "name": "stdout",
     "output_type": "stream",
     "text": [
      "1.58496250072\n"
     ]
    }
   ],
   "source": [
    "beer = 3 * (- (1/3)* np.log2(1/3))\n",
    "print(beer)"
   ]
  },
  {
   "cell_type": "code",
   "execution_count": 81,
   "metadata": {
    "slideshow": {
     "slide_type": "slide"
    }
   },
   "outputs": [
    {
     "name": "stdout",
     "output_type": "stream",
     "text": [
      "3.8413883924\n"
     ]
    }
   ],
   "source": [
    "# Complete this cell\n",
    "\n",
    "dictionary = {\n",
    "    'beer' : [0.40, 1/3  ],\n",
    "    'wine' : [0.30, 1/5],\n",
    "    'schnapps' :  [0.20, 1/10 ],\n",
    "    'vinegar' : [0.10, 1]\n",
    "    }\n",
    "\n",
    "hX = 0\n",
    "\n",
    "for i in dictionary:\n",
    "    hX = hX - (dictionary[i][0] * np.log2(dictionary[i][1] * dictionary[i][0]))\n",
    "    \n",
    "print(hX)"
   ]
  },
  {
   "cell_type": "code",
   "execution_count": 84,
   "metadata": {
    "slideshow": {
     "slide_type": "slide"
    }
   },
   "outputs": [
    {
     "name": "stdout",
     "output_type": "stream",
     "text": [
      "3.8413883924031587\n"
     ]
    }
   ],
   "source": [
    "# Executing this cell must not throw an Exception\n",
    "# The solution is obfuscated so you can solve the exercise without unintendedly spoiling yourself\n",
    "\n",
    "obfuscated_solution = 126361276584.6638/32894689023\n",
    "print(obfuscated_solution)\n",
    "assert_almost_equal(hX, obfuscated_solution)"
   ]
  },
  {
   "cell_type": "markdown",
   "metadata": {
    "slideshow": {
     "slide_type": "slide"
    }
   },
   "source": [
    "### Exercise - KL Divergence"
   ]
  },
  {
   "cell_type": "markdown",
   "metadata": {
    "slideshow": {
     "slide_type": "slide"
    }
   },
   "source": [
    "Given are three probability density functions $p(x), q(x), pp(x)$ with support $[0,1[$."
   ]
  },
  {
   "cell_type": "code",
   "execution_count": 2,
   "metadata": {
    "slideshow": {
     "slide_type": "slide"
    }
   },
   "outputs": [],
   "source": [
    "np.random.seed(42)\n",
    "\n",
    "a = np.random.rand(10)\n",
    "b = np.random.rand(15)\n",
    "ag = ss.gaussian_kde(a)\n",
    "bg = ss.gaussian_kde(b)\n",
    "k = np.linspace(0, 1, 10)\n",
    "p = ag(k) # pdf\n",
    "q = bg(k) # pdf"
   ]
  },
  {
   "cell_type": "code",
   "execution_count": 3,
   "metadata": {},
   "outputs": [
    {
     "name": "stdout",
     "output_type": "stream",
     "text": [
      "[ 0.61762599  1.10351675  1.46843422  1.50242202  1.24399732  0.87710866\n",
      "  0.57309509  0.42245917  0.36423327  0.27569156]\n"
     ]
    }
   ],
   "source": [
    "print(q)"
   ]
  },
  {
   "cell_type": "code",
   "execution_count": 4,
   "metadata": {
    "slideshow": {
     "slide_type": "slide"
    }
   },
   "outputs": [
    {
     "data": {
      "image/png": "[encoded data removed]",
      "text/plain": [
       "<matplotlib.figure.Figure at 0xdae68944e0>"
      ]
     },
     "metadata": {},
     "output_type": "display_data"
    }
   ],
   "source": [
    "plt.plot(k, p)\n",
    "plt.title(\"Probability Density Function p\")\n",
    "plt.xlabel(\"x\")\n",
    "plt.ylabel(\"p(x)\")\n",
    "plt.show()"
   ]
  },
  {
   "cell_type": "code",
   "execution_count": 5,
   "metadata": {
    "slideshow": {
     "slide_type": "slide"
    }
   },
   "outputs": [
    {
     "data": {
      "image/png": "[encoded data removed]",
      "text/plain": [
       "<matplotlib.figure.Figure at 0xdae69b5f60>"
      ]
     },
     "metadata": {},
     "output_type": "display_data"
    }
   ],
   "source": [
    "plt.plot(k, q)\n",
    "plt.title(\"Probability Density Function q\")\n",
    "plt.xlabel(\"x\")\n",
    "plt.ylabel(\"q(x)\")\n",
    "plt.show()"
   ]
  },
  {
   "cell_type": "code",
   "execution_count": 6,
   "metadata": {
    "slideshow": {
     "slide_type": "slide"
    }
   },
   "outputs": [],
   "source": [
    "pp = np.ones_like(p) * 2.\n",
    "pp[k>0.5] = 0. # pdf"
   ]
  },
  {
   "cell_type": "code",
   "execution_count": 7,
   "metadata": {
    "scrolled": true,
    "slideshow": {
     "slide_type": "slide"
    }
   },
   "outputs": [
    {
     "data": {
      "image/png": "[encoded data removed]",
      "text/plain": [
       "<matplotlib.figure.Figure at 0xdae6b2ab00>"
      ]
     },
     "metadata": {},
     "output_type": "display_data"
    }
   ],
   "source": [
    "plt.plot(k, pp)\n",
    "plt.title(\"Probability Density Function pp\")\n",
    "plt.xlabel(\"x\")\n",
    "plt.ylabel(\"pp(x)\")\n",
    "plt.show()"
   ]
  },
  {
   "cell_type": "markdown",
   "metadata": {
    "slideshow": {
     "slide_type": "slide"
    }
   },
   "source": [
    "**Task:**\n",
    "\n",
    "Write a function for computing the KL Divergence for such a pdf (probability density function)\n",
    "in pure numpy. In order to successfully pass the tests, use the natural logarithm.\n",
    "\n",
    "**Reminder:**\n",
    "\n",
    "For probability mass functions / for discrete values:\n",
    "\n",
    "$$\n",
    "D_{KL}(Q \\mid \\mid P) = \\sum_{x \\in \\mathcal A x} Q(x) \\log \\frac{Q(x)}{P(x)}\n",
    "$$\n",
    "\n",
    "For probability density functions / for continous values:\n",
    "\n",
    "$$\n",
    "D_{KL}(Q \\mid \\mid P) = \\int_{-\\infty}^{+\\infty} q(x) \\log \\frac{q(x)}{p(x)} dx\n",
    "$$\n",
    "\n",
    "**Hint:**\n",
    "\n",
    "KL Divergence might not be defined for all elements in $p(x), q(x), pp(x)$. Find a workaround so your function still returns a useful value."
   ]
  },
  {
   "cell_type": "code",
   "execution_count": 195,
   "metadata": {
    "slideshow": {
     "slide_type": "slide"
    }
   },
   "outputs": [],
   "source": [
    "# Implement this function\n",
    "from scipy.integrate import quad\n",
    "\n",
    "def kl_div(q, p):\n",
    "    \"\"\"Calculates the KL Divergence D(q||p). \n",
    "    \n",
    "    :param q: values for the function q (true function)\n",
    "    :type q: ndarray containing n values of type float\n",
    "    :param p: values for the function p (approximation of q)\n",
    "    :type p: ndarray containing n values of type float\n",
    "\n",
    "    :returns: KL Divergence D(q||p) or np.infty if not possible\n",
    "    :rtype: float\n",
    "    \"\"\"\n",
    "    def integran(x,q,p):\n",
    "        return np.where(q != 0, q * np.log(q / p), 0)\n",
    "    \n",
    "    return quad(integran, 0, 1, args=(q,p))\n",
    "    "
   ]
  },
  {
   "cell_type": "code",
   "execution_count": 114,
   "metadata": {},
   "outputs": [],
   "source": [
    "def kl_div(q, p):\n",
    "    \"\"\"Calculates the KL Divergence D(q||p). \n",
    "    \n",
    "    :param q: values for the function q (true function)\n",
    "    :type q: ndarray containing n values of type float\n",
    "    :param p: values for the function p (approximation of q)\n",
    "    :type p: ndarray containing n values of type float\n",
    "\n",
    "    :returns: KL Divergence D(q||p) or np.infty if not possible\n",
    "    :rtype: float\n",
    "    \"\"\"\n",
    "    def integran(q,p):\n",
    "        \n",
    "        q = q / np.sum(q)\n",
    "        p = p / np.sum(p) \n",
    "        return [ i * np.log(i / j) for i,j in zip(q,p) if i != 0 and j != 0]\n",
    "    \n",
    "    if(np.sum(integran(q,p)) < 0):\n",
    "        return np.inf\n",
    "    return np.sum(integran(q,p))"
   ]
  },
  {
   "cell_type": "code",
   "execution_count": 115,
   "metadata": {},
   "outputs": [
    {
     "data": {
      "text/plain": [
       "inf"
      ]
     },
     "execution_count": 115,
     "metadata": {},
     "output_type": "execute_result"
    }
   ],
   "source": [
    "kl_div(p,pp)"
   ]
  },
  {
   "cell_type": "code",
   "execution_count": 117,
   "metadata": {
    "slideshow": {
     "slide_type": "slide"
    }
   },
   "outputs": [],
   "source": [
    "# Executing this cell must not throw an AssertionError\n",
    "\n",
    "assert_almost_equal(kl_div(q, p), ss.entropy(q, p))\n",
    "assert_almost_equal(kl_div(pp, p), ss.entropy(pp, p))\n",
    "assert_almost_equal(kl_div(pp, q), ss.entropy(pp, q))\n",
    "assert_almost_equal(kl_div(p, pp), np.infty)"
   ]
  },
  {
   "cell_type": "markdown",
   "metadata": {
    "slideshow": {
     "slide_type": "slide"
    }
   },
   "source": [
    "**Task:**\n",
    "\n",
    "1. Explain why it's  possible to calculate `kl_div(pp, p)`,\n",
    " but not `kl_div(p, pp)`.\n",
    " \n",
    "2. Which value is larger `kl_div(pp, p)` or `kl_div(pp, q)`? What do you expect? Why?"
   ]
  },
  {
   "cell_type": "markdown",
   "metadata": {
    "slideshow": {
     "slide_type": "slide"
    }
   },
   "source": [
    "## Literature\n",
    "\n",
    "<table>\n",
    "    <tr>\n",
    "        <td>\n",
    "            <a name=\"MAC03\"></a>[MAC03]\n",
    "        </td>\n",
    "        <td>\n",
    "            MacKay, David JC, and David JC Mac Kay. Information theory, inference and learning algorithms. Cambridge university press, 2003.\n",
    "        </td>\n",
    "    </tr>\n",
    "    <tr>\n",
    "        <td>\n",
    "            <a name=\"GOO16\"></a>[GOO16]\n",
    "        </td>\n",
    "        <td>\n",
    "            Goodfellow, Ian, et al. Deep learning. Vol. 1. Cambridge: MIT press, 2016.\n",
    "        </td>\n",
    "    </tr>\n",
    "</table>"
   ]
  },
  {
   "cell_type": "markdown",
   "metadata": {
    "slideshow": {
     "slide_type": "slide"
    }
   },
   "source": [
    "## Licenses\n",
    "\n",
    "### Notebook License (CC-BY-SA 4.0)\n",
    "\n",
    "*The following license applies to the complete notebook, including code cells. It does however not apply to any referenced external media (e.g., images).*\n",
    "\n",
    "HTW Berlin - Angewandte Informatik - Advanced Topics - Exercise - Entropy <br/>\n",
    "by Christian Herta, Klaus Strohmenger<br/>\n",
    "is licensed under a [Creative Commons Attribution-ShareAlike 4.0 International License](http://creativecommons.org/licenses/by-sa/4.0/).<br/>\n",
    "Based on a work at https://gitlab.com/deep.TEACHING.\n",
    "\n",
    "\n",
    "### Code License (MIT)\n",
    "\n",
    "*The following license only applies to code cells of the notebook.*\n",
    "\n",
    "Copyright 2018 Christian Herta, Klaus Strohmenger\n",
    "\n",
    "Permission is hereby granted, free of charge, to any person obtaining a copy of this software and associated documentation files (the \"Software\"), to deal in the Software without restriction, including without limitation the rights to use, copy, modify, merge, publish, distribute, sublicense, and/or sell copies of the Software, and to permit persons to whom the Software is furnished to do so, subject to the following conditions:\n",
    "\n",
    "The above copyright notice and this permission notice shall be included in all copies or substantial portions of the Software.\n",
    "\n",
    "THE SOFTWARE IS PROVIDED \"AS IS\", WITHOUT WARRANTY OF ANY KIND, EXPRESS OR IMPLIED, INCLUDING BUT NOT LIMITED TO THE WARRANTIES OF MERCHANTABILITY, FITNESS FOR A PARTICULAR PURPOSE AND NONINFRINGEMENT. IN NO EVENT SHALL THE AUTHORS OR COPYRIGHT HOLDERS BE LIABLE FOR ANY CLAIM, DAMAGES OR OTHER LIABILITY, WHETHER IN AN ACTION OF CONTRACT, TORT OR OTHERWISE, ARISING FROM, OUT OF OR IN CONNECTION WITH THE SOFTWARE OR THE USE OR OTHER DEALINGS IN THE SOFTWARE."
   ]
  },
  {
   "cell_type": "code",
   "execution_count": null,
   "metadata": {},
   "outputs": [],
   "source": []
  }
 ],
 "metadata": {
  "celltoolbar": "Slideshow",
  "kernelspec": {
   "display_name": "Python 3",
   "language": "python",
   "name": "python3"
  },
  "language_info": {
   "codemirror_mode": {
    "name": "ipython",
    "version": 3
   },
   "file_extension": ".py",
   "mimetype": "text/x-python",
   "name": "python",
   "nbconvert_exporter": "python",
   "pygments_lexer": "ipython3",
   "version": "3.6.3"
  }
 },
 "nbformat": 4,
 "nbformat_minor": 2
}
