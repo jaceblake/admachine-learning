{
 "cells": [
  {
   "cell_type": "markdown",
   "metadata": {
    "slideshow": {
     "slide_type": "slide"
    }
   },
   "source": [
    "# HTW Berlin - Angewandte Informatik - Advanced Topics - Exercise - Meaning of Softmax Output Probability"
   ]
  },
  {
   "cell_type": "markdown",
   "metadata": {
    "slideshow": {
     "slide_type": "slide"
    }
   },
   "source": [
    "## Table of Contents\n",
    "* [Introduction](#Introduction)\n",
    "* [Requirements](#Requirements) \n",
    "  * [Knowledge](#Knowledge)\n",
    "  * [Modules](#Python-Modules)\n",
    "* [Exercise Meaning of Softmax Output Probability](#Exercise-Meaning-of-Softmax-Output-Probability)\n",
    "  * [Exercise - Proof](#Exercise---Proof)\n",
    "  * [Exercise - Discussion](#Exercise---Discussion)\n",
    "  * [Exercise - Logistic Function as Special Case](#Exercise---Logistic-Function-as-Special-Case)\n",
    "  * [Exercise - Normalization](#Exercise---Normalization)\n",
    "* [Literature](#Literature)\n",
    "* [Licenses](#Licenses)"
   ]
  },
  {
   "cell_type": "markdown",
   "metadata": {
    "slideshow": {
     "slide_type": "slide"
    }
   },
   "source": [
    "## Introduction\n",
    "\n",
    "When dealing with concrete classes and the classification of those, a core concept is the logistic function (binary classification) and the softmax function, if there are more than two classes. Both functions are used in 'simple' logistic / softmax regression (no hidden layers) and are still being used in complex neural networks with dozens of layers, be it a simple *fully connected network*, a *convolutional neural network* or a *recurrent neural network*.\n",
    "\n",
    "Therefore, a solid understanding of the softmax function is worth a lot. This **pen & paper exercise** is intended to help you build up on this. "
   ]
  },
  {
   "cell_type": "markdown",
   "metadata": {
    "slideshow": {
     "slide_type": "slide"
    }
   },
   "source": [
    "## Requirements\n",
    "\n",
    "### Knowledge\n",
    "\n",
    "To complete this exercise notebook, you should possess knowledge about the following topics.\n",
    "\n",
    "* Expected Value (**Exercise Expected Value**)\n",
    "* Bayes rule (**Exercise Bayes Rule**)\n",
    "* Softmax function\n",
    "* Cross-entropy\n",
    "* Constrained Optimization with Lagrange multiplier\n",
    "\n",
    "The following material can help you to acquire this knowledge:\n",
    "\n",
    "* Softmax, cross-entropy, gradient descent:\n",
    " * Chapter 5 and 6 of the [Deep Learning Book](http://www.deeplearningbook.org/)[GOO16]\n",
    " * Chapter 5 of the book Pattern Recognition and Machine Learning by Christopher M. Bishop [BIS07]\n",
    "* Logistic Regression (binary):\n",
    " * Video 15.3 and following in the playlist [Machine Learning](https://www.youtube.com/watch?v=-Z2a_mzl9LM&list=PLD0F06AA0D2E8FFBA&t=740s&index=110)\n",
    "* Lagrange multiplier:\n",
    "  * Videos from Khan Academy, starting [here](https://www.khanacademy.org/math/multivariable-calculus/applications-of-multivariable-derivatives/lagrange-multipliers-and-constrained-optimization/v/constrained-optimization-introduction) and following."
   ]
  },
  {
   "cell_type": "markdown",
   "metadata": {
    "collapsed": true,
    "slideshow": {
     "slide_type": "slide"
    }
   },
   "source": [
    "## Exercise - Meaning of Softmax Output Probability"
   ]
  },
  {
   "cell_type": "markdown",
   "metadata": {
    "slideshow": {
     "slide_type": "slide"
    }
   },
   "source": [
    "Expected cost for the train data using softmax and cross-entropy:\n",
    "\n",
    "\\begin{equation}\n",
    "\\begin{split}\n",
    "\\mathbb E[J_{train}(\\theta)] & =  - \\int_{\\mathcal X}   \\sum_{i=1}^c  \\log o_i({\\bf x}; \\theta)  \\cdot  p_{train}({\\bf x}, y=i) \\text{  } d{\\bf x}  \\\\\n",
    " & \\\\\n",
    " & = - \\int_{\\mathcal X} \\left(\\sum_{i=1}^c  \\log o_i({\\bf x}; \\theta)  \\cdot p_{train}(y=i\\mid{\\bf x})  \\right)p_{train}({\\bf x}) \\text{  } d{\\bf x} \\\\\n",
    "\\end{split}\n",
    "\\end{equation}\n",
    "\n",
    "with\n",
    "- The input vector ${\\bf x}$\n",
    "- The target value $y \\in\\{1 \\dots,c \\}$ is encoded with the class index\n",
    "- $i$-th output $o_i$ (one hot encoded output neurons)\n",
    "- $c$ number of different (exclusive) classes\n",
    "- $p_{train}(y=i, {\\bf x})$ joint probability function for the training data (true labels, also one hot)\n",
    "- $p_{train}({\\bf x})$ probability density function\n",
    "\n",
    "**Sidenote**\n",
    "\n",
    "For further reading: [[BIS94]](https://pdfs.semanticscholar.org/7e7d/844569a5cff8b568d3d291aa99dd11dbfa23.pdf)"
   ]
  },
  {
   "cell_type": "markdown",
   "metadata": {
    "slideshow": {
     "slide_type": "slide"
    }
   },
   "source": [
    "First, do not let this equation scare you off. It is just the combination of the expected value formula and the cross-entropy cost.\n",
    "\n",
    "General equation for the expected value of a function $f$ with respect to a probability density function $p$:\n",
    "\n",
    "$$\n",
    "\\mathbb E_{x \\sim p} [f(x)] = \\int_{\\mathcal X} p(x) \\cdot f(x) \\text{  } dx \n",
    "$$\n",
    "\n",
    "And the general equation for the cross-entropy with the computed predictions (net output) $q$:\n",
    "\n",
    "$$\n",
    "H(p, q) = -\\sum_{i=0}^c p_i(x) \\cdot \\log q_i(x)\n",
    "$$\n",
    "\n",
    "The second line in the equation for the expected value is just the application of Bayes rule.\n",
    "\n",
    "$$\n",
    "p_{train}({\\bf x}, y=i) = p_{train}(y=i\\mid{\\bf x}) \\cdot p_{train}({\\bf x}) \n",
    "$$"
   ]
  },
  {
   "cell_type": "markdown",
   "metadata": {
    "slideshow": {
     "slide_type": "slide"
    }
   },
   "source": [
    "### Exercise - Proof"
   ]
  },
  {
   "cell_type": "markdown",
   "metadata": {
    "slideshow": {
     "slide_type": "slide"
    }
   },
   "source": [
    "So for all $\\bf x$ with $p_{train}({\\bf x})>0$ the cost function is minimal if \n",
    "$$\n",
    "\\sum_{i=1}^cp_{train}(y=i\\mid{\\bf x}) \\cdot \\log o_i({\\bf x}; \\theta)\n",
    "$$ \n",
    "is minimal.\n",
    "\n",
    "For all exercises we assume that we have a neural network with sufficent complexity to fit each possible function for each $\\bf x$.\n"
   ]
  },
  {
   "cell_type": "markdown",
   "metadata": {
    "slideshow": {
     "slide_type": "slide"
    }
   },
   "source": [
    "**Task:**\n",
    "\n",
    "Under the (softmax) constraint that $\\sum_i o_i({\\bf x}; \\theta)=1$, show that the outputs $o_i$ , which minimize the cost for all $\\bf x$, have to fulfill:\n",
    "\n",
    "$$\n",
    "o_i({\\bf x}; \\theta)  =  p_{train}(y=i\\mid{\\bf x})\n",
    "$$\n",
    "\n",
    "**Hint:**\n",
    "\n",
    "Minimization / maximization problem with constraint $\\rightarrow$ Lagrange multiplier."
   ]
  },
  {
   "cell_type": "markdown",
   "metadata": {
    "slideshow": {
     "slide_type": "slide"
    }
   },
   "source": [
    "### Exercise - Discussion"
   ]
  },
  {
   "cell_type": "markdown",
   "metadata": {
    "slideshow": {
     "slide_type": "slide"
    }
   },
   "source": [
    "**Task:**\n",
    "\n",
    "Answer the following questions:\n",
    "- Discuss the first exercise. What is the meaning of $o_i$ (the softmax-output)?\n",
    "- How reliable is such a interpretation of $o_i$ for regions with low probability density $p_{train}(\\bf x)$?"
   ]
  },
  {
   "cell_type": "markdown",
   "metadata": {
    "slideshow": {
     "slide_type": "slide"
    }
   },
   "source": [
    "\n",
    "### Exercise - Logistic Function as Special Case"
   ]
  },
  {
   "cell_type": "markdown",
   "metadata": {
    "slideshow": {
     "slide_type": "slide"
    }
   },
   "source": [
    "**Softmax**\n",
    "\n",
    "The softmax function is defined as:\n",
    "\n",
    "$$\n",
    "o_i({\\bf x}; \\theta) = \\frac{\\exp(\\theta_i \\bf x)}{\\sum_{k=1}^c\\exp (\\theta_k \\bf x)}\n",
    "$$\n",
    "\n",
    "**Logistic**\n",
    "\n",
    "For binary classification, we normally use the logistic function, defined as:\n",
    "\n",
    "$$\n",
    "f({\\bf x}; \\theta) = \\frac{1}{1 + \\exp(-\\theta \\bf x)}\n",
    "$$\n",
    "\n",
    "in conjunction with a threshold for $h_1$ (e.g. $0.5$) to decide if $x$ belongs to class 1 or not.\n",
    "\n",
    "with:\n",
    "* $\\theta$ being a weight matrix: \n",
    " * e.g 4x3, for 4 features and 3 classes (softmax)\n",
    " * or 4x1, for 4 features and 2 classes (logistic)\n",
    "* $\\theta_i$ being a column weight vector (e.g 4x1)\n",
    "* $\\bf x$ being a row feature vector (e.g 1x4)"
   ]
  },
  {
   "cell_type": "markdown",
   "metadata": {
    "slideshow": {
     "slide_type": "slide"
    }
   },
   "source": [
    "**Task:**\n",
    "\n",
    "Show, that the logistic function is the same as the softmax function for $k = 2$"
   ]
  },
  {
   "cell_type": "markdown",
   "metadata": {
    "slideshow": {
     "slide_type": "slide"
    }
   },
   "source": [
    "## Literature\n",
    "\n",
    "<table>\n",
    "    <tr>\n",
    "        <td>\n",
    "            <a name=\"GOO16\"></a>[GOO16]\n",
    "        </td>\n",
    "        <td>\n",
    "            Goodfellow, Ian, et al. Deep learning. Vol. 1. Cambridge: MIT press, 2016.\n",
    "        </td>\n",
    "    </tr>\n",
    "    <tr>\n",
    "        <td>\n",
    "            <a name=\"BIS07\"></a>[BIS07]\n",
    "        </td>\n",
    "        <td>\n",
    "            Christopher M. Bishop, Pattern recognition and machine learning, 5th Edition. Springer 2007, ISBN 9780387310732.\n",
    "        </td>\n",
    "    </tr>\n",
    "    <tr>\n",
    "        <td>\n",
    "            <a name=\"BIS94\"></a>[BIS94]\n",
    "        </td>\n",
    "        <td>\n",
    "            Christopher M. Bishop, Novelty Detection and Neural Networks, IEE Proc. Vis. Image Signal Process, Vol. 141, No. 4, 1994.\n",
    "        </td>\n",
    "    </tr>    \n",
    "</table>"
   ]
  },
  {
   "cell_type": "markdown",
   "metadata": {
    "slideshow": {
     "slide_type": "slide"
    }
   },
   "source": [
    "## Licenses\n",
    "\n",
    "### Notebook License (CC-BY-SA 4.0)\n",
    "\n",
    "*The following license applies to the complete notebook, including code cells. It does however not apply to any referenced external media (e.g., images).*\n",
    "\n",
    "HTW Berlin - Angewandte Informatik - Advanced Topics - Exercise - Meaning of Softmax Output Probability <br/>\n",
    "by Christian Herta, Klaus Strohmenger<br/>\n",
    "is licensed under a [Creative Commons Attribution-ShareAlike 4.0 International License](http://creativecommons.org/licenses/by-sa/4.0/).<br/>\n",
    "Based on a work at https://gitlab.com/deep.TEACHING.\n",
    "\n",
    "\n",
    "### Code License (MIT)\n",
    "\n",
    "*The following license only applies to code cells of the notebook.*\n",
    "\n",
    "Copyright 2018 Christian Herta, Klaus Strohmenger\n",
    "\n",
    "Permission is hereby granted, free of charge, to any person obtaining a copy of this software and associated documentation files (the \"Software\"), to deal in the Software without restriction, including without limitation the rights to use, copy, modify, merge, publish, distribute, sublicense, and/or sell copies of the Software, and to permit persons to whom the Software is furnished to do so, subject to the following conditions:\n",
    "\n",
    "The above copyright notice and this permission notice shall be included in all copies or substantial portions of the Software.\n",
    "\n",
    "THE SOFTWARE IS PROVIDED \"AS IS\", WITHOUT WARRANTY OF ANY KIND, EXPRESS OR IMPLIED, INCLUDING BUT NOT LIMITED TO THE WARRANTIES OF MERCHANTABILITY, FITNESS FOR A PARTICULAR PURPOSE AND NONINFRINGEMENT. IN NO EVENT SHALL THE AUTHORS OR COPYRIGHT HOLDERS BE LIABLE FOR ANY CLAIM, DAMAGES OR OTHER LIABILITY, WHETHER IN AN ACTION OF CONTRACT, TORT OR OTHERWISE, ARISING FROM, OUT OF OR IN CONNECTION WITH THE SOFTWARE OR THE USE OR OTHER DEALINGS IN THE SOFTWARE."
   ]
  }
 ],
 "metadata": {
  "celltoolbar": "Slideshow",
  "kernelspec": {
   "display_name": "Python 3",
   "language": "python",
   "name": "python3"
  },
  "language_info": {
   "codemirror_mode": {
    "name": "ipython",
    "version": 3
   },
   "file_extension": ".py",
   "mimetype": "text/x-python",
   "name": "python",
   "nbconvert_exporter": "python",
   "pygments_lexer": "ipython3",
   "version": "3.6.3"
  }
 },
 "nbformat": 4,
 "nbformat_minor": 2
}
